{
  "cells": [
    {
      "cell_type": "markdown",
      "metadata": {
        "id": "view-in-github",
        "colab_type": "text"
      },
      "source": [
        "<a href=\"https://colab.research.google.com/github/shruthireddyrekula/Image_classification_tf/blob/main/Image_classification_tf.ipynb\" target=\"_parent\"><img src=\"https://colab.research.google.com/assets/colab-badge.svg\" alt=\"Open In Colab\"/></a>"
      ]
    },
    {
      "cell_type": "code",
      "execution_count": 16,
      "metadata": {
        "id": "7L3JdvHcgZu0"
      },
      "outputs": [],
      "source": [
        "import tensorflow as tf\n",
        "from tensorflow import keras\n",
        "import numpy as np \n",
        "import pandas as pd \n",
        "import matplotlib.pyplot as plt\n",
        "from tqdm import tqdm\n",
        "from keras.preprocessing import image\n",
        "from keras.utils import to_categorical\n",
        "from sklearn.model_selection import train_test_split\n"
      ]
    },
    {
      "cell_type": "code",
      "execution_count": 3,
      "metadata": {
        "id": "Jr-MssYzoPaY",
        "colab": {
          "base_uri": "https://localhost:8080/"
        },
        "outputId": "e8597a11-2529-489e-a934-965af5849ff8"
      },
      "outputs": [
        {
          "output_type": "stream",
          "name": "stdout",
          "text": [
            "Mounted at /content/drive\n"
          ]
        }
      ],
      "source": [
        "from google.colab import drive\n",
        "drive.mount('/content/drive')"
      ]
    },
    {
      "cell_type": "code",
      "execution_count": null,
      "metadata": {
        "id": "YtL3kt9RqDfD"
      },
      "outputs": [],
      "source": [
        "!unzip /content/drive/My\\ Drive/train_LbELtWX.zip\n"
      ]
    },
    {
      "cell_type": "code",
      "source": [
        "train = pd.read_csv('train_LbELtWX/train.csv')"
      ],
      "metadata": {
        "id": "sI-DtQ4JGrmx"
      },
      "execution_count": 12,
      "outputs": []
    },
    {
      "cell_type": "code",
      "source": [
        "# We have grayscale images, so while loading the images we will keep grayscale=True, if you have RGB images, you should set grayscale as False\n",
        "from tensorflow.keras.utils import load_img, img_to_array \n",
        "train_image = []\n",
        "for i in tqdm(range(train.shape[0])):\n",
        "    img = tf.keras.utils.load_img('train_LbELtWX/train/'+train['id'][i].astype('str')+'.png', target_size=(28,28,1), color_mode=\"grayscale\")\n",
        "    img = img_to_array(img)\n",
        "    img = img/255\n",
        "    train_image.append(img)\n",
        "X = np.array(train_image)\n",
        "\n"
      ],
      "metadata": {
        "id": "o5DR8egr8x3m"
      },
      "execution_count": null,
      "outputs": []
    },
    {
      "cell_type": "code",
      "source": [
        "# Preprocessing the Target\n",
        "y=train['label'].values\n",
        "y = to_categorical(y)"
      ],
      "metadata": {
        "id": "RfaBMESK4shU"
      },
      "execution_count": 19,
      "outputs": []
    },
    {
      "cell_type": "code",
      "source": [
        "# Create Train and validation data to check the performance at each epoch\n",
        "X_train, X_test, y_train, y_test = train_test_split(X, y, random_state=42, test_size=0.2)\n",
        "\n",
        "# Using Keras Sequential API to add neural network layers\n",
        "model = keras.Sequential()\n",
        "model.add(keras.layers.Conv2D(32, kernel_size=(3, 3),activation='relu',input_shape=(28,28,1)))\n",
        "model.add(keras.layers.Conv2D(64, (3, 3), activation='relu'))\n",
        "model.add(keras.layers.MaxPooling2D(pool_size=(2, 2)))\n",
        "model.add(keras.layers.Dropout(0.25))\n",
        "model.add(keras.layers.Flatten())\n",
        "model.add(keras.layers.Dense(128, activation='relu'))\n",
        "model.add(keras.layers.Dropout(0.5))\n",
        "model.add(keras.layers.Dense(10, activation='softmax'))"
      ],
      "metadata": {
        "id": "OM1fqYe4AWuN"
      },
      "execution_count": 20,
      "outputs": []
    },
    {
      "cell_type": "code",
      "source": [
        "model.compile(optimizer='adam',\n",
        "              loss='categorical_crossentropy',\n",
        "              metrics=['accuracy'])\n",
        "\n",
        "model.fit(X_train, y_train, epochs=10, validation_data=(X_test, y_test))"
      ],
      "metadata": {
        "id": "8nDXtmMTAmpc"
      },
      "execution_count": null,
      "outputs": []
    },
    {
      "cell_type": "code",
      "source": [
        "# unzip the test file to read images\n",
        "!unzip /content/drive/My\\ Drive/test_sample2.zip\n",
        "\n",
        "# Read test file names\n",
        "test = pd.read_csv('test_sample/test.csv')\n",
        "test_copy = test.copy()\n",
        "\n",
        "# Read test images and preprocess\n",
        "test_image = []\n",
        "for i in tqdm(range(test.shape[0])):\n",
        "    img = tf.keras.utils.load_img('test_sample/test/'+test['id'][i].astype('str')+'.png', target_size=(28,28,1), grayscale=True)\n",
        "    img = img_to_array(img)\n",
        "    img = img/255\n",
        "    test_image.append(img)\n",
        "test = np.array(test_image)\n",
        "\n",
        "# Make Predictions using the trained model\n",
        "prediction=model.predict(test) \n",
        "classes_x=np.argmax(prediction,axis=1)\n",
        "\n"
      ],
      "metadata": {
        "id": "IXJ1qxv9BkdE"
      },
      "execution_count": null,
      "outputs": []
    }
  ],
  "metadata": {
    "colab": {
      "provenance": [],
      "authorship_tag": "ABX9TyMLMzRwUS0GIT7Q+RpWH/q3",
      "include_colab_link": true
    },
    "kernelspec": {
      "display_name": "Python 3",
      "name": "python3"
    },
    "language_info": {
      "name": "python"
    }
  },
  "nbformat": 4,
  "nbformat_minor": 0
}